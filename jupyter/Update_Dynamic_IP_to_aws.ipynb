{
 "cells": [
  {
   "cell_type": "code",
   "execution_count": null,
   "id": "ignored-desktop",
   "metadata": {},
   "outputs": [],
   "source": [
    "\"\"\"\n",
    "Update your aws security group with your current ip\n",
    "\"\"\""
   ]
  },
  {
   "cell_type": "code",
   "execution_count": null,
   "id": "under-beverage",
   "metadata": {},
   "outputs": [],
   "source": [
    "from boto3 import resource\n",
    "# requires boto3 to be configured\n",
    "from requests import get"
   ]
  },
  {
   "cell_type": "code",
   "execution_count": null,
   "id": "strategic-publication",
   "metadata": {
    "title": "security group is in"
   },
   "outputs": [],
   "source": [
    "AWS_REGION = \"us-east-1\"\n",
    "# id of security group\n",
    "SECURITY_GROUP_ID = \"sg-12345a6bc7de89f10\"\n",
    "# description comment of the ip to be added or updated\n",
    "DESCRIPTION = \"dynamic ip\"\n",
    "# port to use - meaningless if protocol all, but still required\n",
    "PORT = 22\n",
    "# protocol tcp/udp/All ( -1 for All )\n",
    "PROTOCOL = \"-1\"\n",
    "# if true will remove current ip using the set Protocol,\n",
    "# and port (if not all), even without the set description\n",
    "REMOVE_CURRENT_MANUALLY_ADDED_IP = False\n",
    "\n",
    "\n",
    "def get_old_ip(security_group_obj, current_ip):\n",
    "    \"\"\"\n",
    "    Loop over aws security group ips for current ip or set description\n",
    "    :param security_group_obj: aws security group obj\n",
    "    :param current_ip: current ip\n",
    "    :return: ip from security group that has the set description, or is the current ip if remove_ip is True\n",
    "    \"\"\"\n",
    "    for permission in security_group_obj.ip_permissions:\n",
    "        for ip_range in permission.get(\"IpRanges\"):\n",
    "            if DESCRIPTION in ip_range.get(\"Description\", \"\"):\n",
    "                return ip_range.get(\"CidrIp\")\n",
    "            if current_ip == ip_range.get(\"CidrIp\") and permission.get('IpProtocol') == PROTOCOL and \\\n",
    "                    (PROTOCOL == '-1' or permission.get('FromPort') == PORT):\n",
    "                assert not REMOVE_CURRENT_MANUALLY_ADDED_IP, \\\n",
    "                    ValueError(f' {current_ip} already exists in the security group')\n",
    "                return ip_range.get(\"CidrIp\")\n",
    "    return None\n",
    "\n",
    "\n",
    "# Get current ip\n",
    "resp = get(\"http://checkip.amazonaws.com/\")\n",
    "resp.raise_for_status()\n",
    "ip = resp.content.strip().decode(\"utf-8\") + \"/32\"\n",
    "assert ip, ValueError('No Current IP found')\n",
    "# Get aws security group object\n",
    "security_group = resource(\"ec2\", region_name=AWS_REGION).SecurityGroup(SECURITY_GROUP_ID)\n",
    "# Get from the aws security group, the ip and remove if needed\n",
    "old_ip = get_old_ip(security_group, ip)\n",
    "if old_ip:\n",
    "    security_group.revoke_ingress(IpProtocol=PROTOCOL, FromPort=PORT, CidrIp=old_ip)\n",
    "# Add current ip\n",
    "ip_dir = {\"FromPort\": PORT, \"IpProtocol\": PROTOCOL, \"IpRanges\": [{\"CidrIp\": ip, \"Description\": DESCRIPTION}]}\n",
    "security_group.authorize_ingress(IpPermissions=[ip_dir])"
   ]
  }
 ],
 "metadata": {
  "jupytext": {
   "cell_markers": "region,endregion",
   "cell_metadata_filter": "title,-all",
   "comment_magics": true,
   "executable": "/usr/bin/python3",
   "main_language": "python",
   "split_at_heading": true
  }
 },
 "nbformat": 4,
 "nbformat_minor": 5
}
